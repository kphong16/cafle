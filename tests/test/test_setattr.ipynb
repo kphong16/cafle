{
 "cells": [
  {
   "cell_type": "code",
   "execution_count": 20,
   "metadata": {
    "collapsed": true,
    "pycharm": {
     "name": "#%%\n"
    }
   },
   "outputs": [],
   "source": [
    "from src.cafle import Account, Index"
   ]
  },
  {
   "cell_type": "code",
   "execution_count": 21,
   "outputs": [],
   "source": [
    "idx = Index(\"2023.01\", 12)"
   ],
   "metadata": {
    "collapsed": false,
    "pycharm": {
     "name": "#%%\n"
    }
   }
  },
  {
   "cell_type": "code",
   "execution_count": 22,
   "outputs": [],
   "source": [
    "abc = Account(idx)"
   ],
   "metadata": {
    "collapsed": false,
    "pycharm": {
     "name": "#%%\n"
    }
   }
  },
  {
   "cell_type": "code",
   "execution_count": 23,
   "outputs": [
    {
     "data": {
      "text/plain": "{'vars': ['index',\n  'name',\n  '_df',\n  '_jnl',\n  '_jnlscd',\n  'scd_in',\n  'scd_in_cum',\n  'scd_out',\n  'scd_out_cum',\n  'bal_strt',\n  'amt_in',\n  'amt_in_cum',\n  'amt_out',\n  'amt_out_cum',\n  'bal_end',\n  'rsdl_in_cum',\n  'rsdl_out_cum'],\n 'index': DateIndex(['2023.01.31', '2023.02.28', '2023.03.31', '2023.04.30', '2023.05.31', '2023.06.30', '2023.07.31', '2023.08.31', '2023.09.30', '2023.10.31', '2023.11.30', '2023.12.31']),\n 'name': 'main',\n '_df':             scd_in  scd_in_cum  scd_out  scd_out_cum  bal_strt  amt_in  amt_in_cum  amt_out  amt_out_cum  bal_end  rsdl_in_cum  rsdl_out_cum\n 2023-01-31     0.0         0.0      0.0          0.0       0.0     0.0         0.0      0.0          0.0      0.0          0.0           0.0\n 2023-02-28     0.0         0.0      0.0          0.0       0.0     0.0         0.0      0.0          0.0      0.0          0.0           0.0\n 2023-03-31     0.0         0.0      0.0          0.0       0.0     0.0         0.0      0.0          0.0      0.0          0.0           0.0\n 2023-04-30     0.0         0.0      0.0          0.0       0.0     0.0         0.0      0.0          0.0      0.0          0.0           0.0\n 2023-05-31     0.0         0.0      0.0          0.0       0.0     0.0         0.0      0.0          0.0      0.0          0.0           0.0\n 2023-06-30     0.0         0.0      0.0          0.0       0.0     0.0         0.0      0.0          0.0      0.0          0.0           0.0\n 2023-07-31     0.0         0.0      0.0          0.0       0.0     0.0         0.0      0.0          0.0      0.0          0.0           0.0\n 2023-08-31     0.0         0.0      0.0          0.0       0.0     0.0         0.0      0.0          0.0      0.0          0.0           0.0\n 2023-09-30     0.0         0.0      0.0          0.0       0.0     0.0         0.0      0.0          0.0      0.0          0.0           0.0\n 2023-10-31     0.0         0.0      0.0          0.0       0.0     0.0         0.0      0.0          0.0      0.0          0.0           0.0\n 2023-11-30     0.0         0.0      0.0          0.0       0.0     0.0         0.0      0.0          0.0      0.0          0.0           0.0\n 2023-12-31     0.0         0.0      0.0          0.0       0.0     0.0         0.0      0.0          0.0      0.0          0.0           0.0,\n '_jnl': Empty DataFrame\n Columns: [amt_in, amt_out, rcvfrm, payto, note]\n Index: [],\n '_jnlscd': Empty DataFrame\n Columns: [amt_in, amt_out, rcvfrm, payto, note]\n Index: [],\n 'scd_in': <src.cafle.account.Account.scd_in at 0x7fe9d8d605b0>,\n 'scd_in_cum': <src.cafle.account.Account.scd_in_cum at 0x7fe9d8d612a0>,\n 'scd_out': <src.cafle.account.Account.scd_out at 0x7fe9d8d62830>,\n 'scd_out_cum': <src.cafle.account.Account.scd_out_cum at 0x7fe9d8d61870>,\n 'bal_strt': <src.cafle.account.Account.bal_strt at 0x7fe9d8d62650>,\n 'amt_in': <src.cafle.account.Account.amt_in at 0x7fe9d8d62fb0>,\n 'amt_in_cum': <src.cafle.account.Account.amt_in_cum at 0x7fe9d8d62560>,\n 'amt_out': <src.cafle.account.Account.amt_out at 0x7fe9d8d61750>,\n 'amt_out_cum': <src.cafle.account.Account.amt_out_cum at 0x7fe9d8d63550>,\n 'bal_end': <src.cafle.account.Account.bal_end at 0x7fe9d8d62110>,\n 'rsdl_in_cum': <src.cafle.account.Account.rsdl_in_cum at 0x7fe9d8d62b00>,\n 'rsdl_out_cum': <src.cafle.account.Account.rsdl_out_cum at 0x7fe9d8d620e0>}"
     },
     "execution_count": 23,
     "metadata": {},
     "output_type": "execute_result"
    }
   ],
   "source": [
    "abc.__dict__"
   ],
   "metadata": {
    "collapsed": false,
    "pycharm": {
     "name": "#%%\n"
    }
   }
  },
  {
   "cell_type": "code",
   "execution_count": 24,
   "outputs": [
    {
     "data": {
      "text/plain": "['index',\n 'name',\n '_df',\n '_jnl',\n '_jnlscd',\n 'scd_in',\n 'scd_in_cum',\n 'scd_out',\n 'scd_out_cum',\n 'bal_strt',\n 'amt_in',\n 'amt_in_cum',\n 'amt_out',\n 'amt_out_cum',\n 'bal_end',\n 'rsdl_in_cum',\n 'rsdl_out_cum']"
     },
     "execution_count": 24,
     "metadata": {},
     "output_type": "execute_result"
    }
   ],
   "source": [
    "abc.vars"
   ],
   "metadata": {
    "collapsed": false,
    "pycharm": {
     "name": "#%%\n"
    }
   }
  },
  {
   "cell_type": "code",
   "execution_count": 12,
   "outputs": [],
   "source": [
    "abc.amt = 10111"
   ],
   "metadata": {
    "collapsed": false,
    "pycharm": {
     "name": "#%%\n"
    }
   }
  },
  {
   "cell_type": "code",
   "execution_count": 13,
   "outputs": [
    {
     "data": {
      "text/plain": "['index',\n 'name',\n '_df',\n '_jnl',\n '_jnlscd',\n 'scd_in',\n 'scd_in_cum',\n 'scd_out',\n 'scd_out_cum',\n 'bal_strt',\n 'amt_in',\n 'amt_in_cum',\n 'amt_out',\n 'amt_out_cum',\n 'bal_end',\n 'rsdl_in_cum',\n 'rsdl_out_cum',\n 'amt']"
     },
     "execution_count": 13,
     "metadata": {},
     "output_type": "execute_result"
    }
   ],
   "source": [
    "abc.vars"
   ],
   "metadata": {
    "collapsed": false,
    "pycharm": {
     "name": "#%%\n"
    }
   }
  },
  {
   "cell_type": "code",
   "execution_count": 14,
   "outputs": [
    {
     "data": {
      "text/plain": "dict_keys(['vars', 'index', 'name', '_df', '_jnl', '_jnlscd', 'scd_in', 'scd_in_cum', 'scd_out', 'scd_out_cum', 'bal_strt', 'amt_in', 'amt_in_cum', 'amt_out', 'amt_out_cum', 'bal_end', 'rsdl_in_cum', 'rsdl_out_cum', 'amt'])"
     },
     "execution_count": 14,
     "metadata": {},
     "output_type": "execute_result"
    }
   ],
   "source": [
    "vars(abc).keys()"
   ],
   "metadata": {
    "collapsed": false,
    "pycharm": {
     "name": "#%%\n"
    }
   }
  },
  {
   "cell_type": "code",
   "execution_count": null,
   "outputs": [],
   "source": [],
   "metadata": {
    "collapsed": false,
    "pycharm": {
     "name": "#%%\n"
    }
   }
  }
 ],
 "metadata": {
  "kernelspec": {
   "display_name": "Python 3",
   "language": "python",
   "name": "python3"
  },
  "language_info": {
   "codemirror_mode": {
    "name": "ipython",
    "version": 2
   },
   "file_extension": ".py",
   "mimetype": "text/x-python",
   "name": "python",
   "nbconvert_exporter": "python",
   "pygments_lexer": "ipython2",
   "version": "2.7.6"
  }
 },
 "nbformat": 4,
 "nbformat_minor": 0
}